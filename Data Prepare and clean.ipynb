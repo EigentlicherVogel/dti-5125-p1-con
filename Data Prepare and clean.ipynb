{
 "cells": [
  {
   "cell_type": "code",
   "execution_count": 5,
   "id": "2891b188-8944-4214-8f8a-bdfd6e60b030",
   "metadata": {},
   "outputs": [
    {
     "name": "stdout",
     "output_type": "stream",
     "text": [
      "Note: you may need to restart the kernel to use updated packages.\n"
     ]
    }
   ],
   "source": [
    "pip install xlrd>=2.0.1"
   ]
  },
  {
   "cell_type": "code",
   "execution_count": 7,
   "id": "72626266-5279-4746-9e1b-2f9c36e7f07c",
   "metadata": {},
   "outputs": [
    {
     "name": "stdout",
     "output_type": "stream",
     "text": [
      "Done! Saved 200 x 5 = 1000 labeled 100-word records.\n"
     ]
    }
   ],
   "source": [
    "\n",
    "import pandas as pd\n",
    "import random\n",
    "\n",
    "# Step 1: Split a long string of text into 200 random 100-word chunks\n",
    "def split_text_into_partitions(text, partition_size=100, num_partitions=200):\n",
    "    words = text.split()  # split by whitespace, keep all tokens\n",
    "    partitions = []\n",
    "\n",
    "    for _ in range(num_partitions):\n",
    "        start_idx = random.randint(0, max(len(words) - partition_size, 0))\n",
    "        partition_words = words[start_idx : start_idx + partition_size]\n",
    "        partition_text = ' '.join(partition_words)\n",
    "        partitions.append(partition_text)\n",
    "        \n",
    "    return partitions\n",
    "\n",
    "\n",
    "# Step 2: Load 5 Excel files, create 200 chunks from each, and label them A–E\n",
    "def create_labeled_dataframe_from_excels(excel_paths, labels):\n",
    "    all_partitions = []\n",
    "\n",
    "    for path, label in zip(excel_paths, labels):\n",
    "        df = pd.read_excel(path)\n",
    "\n",
    "        # Combine Title + Abstract into a single large string\n",
    "        combined_text = ' '.join(\n",
    "            (df['Article Title'].astype(str) + ' ' + df['Abstract'].astype(str)).tolist()\n",
    "        )\n",
    "\n",
    "        # Split into 200 chunks of 100 words\n",
    "        partitions = split_text_into_partitions(combined_text)\n",
    "\n",
    "        # Append each partition with its label\n",
    "        for part in partitions:\n",
    "            all_partitions.append({'text': part, 'label': label})\n",
    "    \n",
    "    return pd.DataFrame(all_partitions)\n",
    "\n",
    "\n",
    "# Step 3: Call the function on your files\n",
    "excel_files = [f'dataset-{i}.xls' for i in range(1, 6)]\n",
    "labels = ['gene expression analysis', 'sequence classification and alignment', \n",
    "          'protein structure and function prediction', 'biological image analysis', 'disease outcome prediction']\n",
    "\n",
    "df_labeled = create_labeled_dataframe_from_excels(excel_files, labels)\n",
    "\n",
    "# Optional: Save to CSV\n",
    "df_labeled.to_csv('sampled_labeled_partitions.csv', index=False)\n",
    "\n",
    "print(\"Done! Saved 200 x 5 = 1000 labeled 100-word records.\")\n"
   ]
  },
  {
   "cell_type": "code",
   "execution_count": 9,
   "id": "7704cd77-c106-4052-97d4-f090ea390e5d",
   "metadata": {
    "scrolled": true
   },
   "outputs": [
    {
     "name": "stderr",
     "output_type": "stream",
     "text": [
      "[nltk_data] Downloading package stopwords to\n",
      "[nltk_data]     C:\\Users\\Cella.Shang\\AppData\\Roaming\\nltk_data...\n",
      "[nltk_data]   Unzipping corpora\\stopwords.zip.\n",
      "[nltk_data] Downloading package wordnet to\n",
      "[nltk_data]     C:\\Users\\Cella.Shang\\AppData\\Roaming\\nltk_data...\n",
      "[nltk_data] Downloading package omw-1.4 to\n",
      "[nltk_data]     C:\\Users\\Cella.Shang\\AppData\\Roaming\\nltk_data...\n"
     ]
    },
    {
     "name": "stdout",
     "output_type": "stream",
     "text": [
      " 'cleaned_labeled_partitions.csv' and 'cleaned_labeled_partitions.json'\n"
     ]
    }
   ],
   "source": [
    "import pandas as pd\n",
    "import nltk\n",
    "import re\n",
    "from nltk.corpus import stopwords\n",
    "from nltk.stem import WordNetLemmatizer\n",
    "\n",
    "# Download NLTK resources (only needs to be run once)\n",
    "nltk.download('stopwords')\n",
    "nltk.download('wordnet')\n",
    "nltk.download('omw-1.4')\n",
    "\n",
    "# Set up preprocessing tools\n",
    "stop_words = set(stopwords.words('english'))\n",
    "lemmatizer = WordNetLemmatizer()\n",
    "\n",
    "# Define the cleaning function\n",
    "def clean_text(text):\n",
    "    if not isinstance(text, str):\n",
    "        return \"\"\n",
    "\n",
    "    text = text.lower()\n",
    "    text = re.sub(r'[^a-z\\s]', '', text)  # Keep only letters and spaces\n",
    "    words = text.split()\n",
    "    words = [word for word in words if word not in stop_words]\n",
    "    words = [lemmatizer.lemmatize(word) for word in words]\n",
    "    return ' '.join(words)\n",
    "\n",
    "# Load the sampled labeled CSV\n",
    "df = pd.read_csv('sampled_labeled_partitions.csv')\n",
    "\n",
    "# Clean the 'text' column\n",
    "df['text'] = df['text'].apply(clean_text)\n",
    "\n",
    "# Save to CSV\n",
    "df.to_csv('cleaned_labeled_partitions.csv', index=False)\n",
    "\n",
    "# Save to JSON\n",
    "df.to_json('cleaned_labeled_partitions.json', orient='records', lines=True)\n",
    "\n",
    "print(\" 'cleaned_labeled_partitions.csv' and 'cleaned_labeled_partitions.json'\")"
   ]
  },
  {
   "cell_type": "code",
   "execution_count": null,
   "id": "de1669eb-d064-44d9-a1ff-b79aae3917ad",
   "metadata": {},
   "outputs": [],
   "source": []
  },
  {
   "cell_type": "code",
   "execution_count": null,
   "id": "61e763c6-d8fa-44e4-99b5-7133f85147c7",
   "metadata": {},
   "outputs": [],
   "source": []
  }
 ],
 "metadata": {
  "kernelspec": {
   "display_name": "Python 3 (ipykernel)",
   "language": "python",
   "name": "python3"
  },
  "language_info": {
   "codemirror_mode": {
    "name": "ipython",
    "version": 3
   },
   "file_extension": ".py",
   "mimetype": "text/x-python",
   "name": "python",
   "nbconvert_exporter": "python",
   "pygments_lexer": "ipython3",
   "version": "3.12.7"
  }
 },
 "nbformat": 4,
 "nbformat_minor": 5
}
