{
 "cells": [
  {
   "cell_type": "code",
   "execution_count": 1,
   "metadata": {
    "id": "lvhT5cZj419c"
   },
   "outputs": [],
   "source": [
    "from sklearn.feature_extraction.text import CountVectorizer, TfidfVectorizer\n",
    "from sklearn.decomposition import LatentDirichletAllocation\n",
    "import numpy as np\n",
    "import pandas as pd"
   ]
  },
  {
   "cell_type": "code",
   "execution_count": 2,
   "metadata": {
    "id": "RI1nJ2eRnya7"
   },
   "outputs": [],
   "source": [
    "def bag_of_words(texts):\n",
    "    vectorizer = CountVectorizer()\n",
    "    X = vectorizer.fit_transform(texts)\n",
    "    return X.toarray()\n",
    "\n"
   ]
  },
  {
   "cell_type": "code",
   "execution_count": 3,
   "metadata": {
    "id": "pU78RIxmnyU3"
   },
   "outputs": [],
   "source": [
    "def n_grams(texts, n=2):\n",
    "    vectorizer = CountVectorizer(ngram_range=(n, n))\n",
    "    X = vectorizer.fit_transform(texts)\n",
    "    return X.toarray()\n",
    "\n"
   ]
  },
  {
   "cell_type": "code",
   "execution_count": 4,
   "metadata": {
    "id": "lzno2FfQnyOg"
   },
   "outputs": [],
   "source": [
    "def tfidf(texts):\n",
    "    vectorizer = TfidfVectorizer()\n",
    "    X = vectorizer.fit_transform(texts)\n",
    "    return X.toarray()\n",
    "\n"
   ]
  },
  {
   "cell_type": "code",
   "execution_count": 52,
   "metadata": {
    "id": "ziLg2yw1nyAa"
   },
   "outputs": [],
   "source": [
    "def lda_encoding(texts, n_topics=5):\n",
    "    vectorizer = CountVectorizer()\n",
    "    X = vectorizer.fit_transform(texts)\n",
    "    lda_model = LatentDirichletAllocation(n_components=n_topics)\n",
    "    lda_features = lda_model.fit_transform(X)\n",
    "    return lda_features"
   ]
  },
  {
   "cell_type": "code",
   "execution_count": 16,
   "metadata": {},
   "outputs": [],
   "source": [
    "from gensim.models import Word2Vec\n",
    "from gensim.utils import simple_preprocess\n",
    "\n",
    "def word2vec_encoding(texts, vector_size=100, window=5, min_count=1):\n",
    "\n",
    "    # Tokenize documents\n",
    "    tokenized_texts = [simple_preprocess(doc) for doc in texts]\n",
    "    \n",
    "    # Train Word2Vec model\n",
    "    model = Word2Vec(\n",
    "        sentences=tokenized_texts,\n",
    "        vector_size=vector_size,\n",
    "        window=window,\n",
    "        min_count=min_count,\n",
    "        workers=4\n",
    "    )\n",
    "    \n",
    "    # Create document vectors by averaging word vectors\n",
    "    doc_vectors = []\n",
    "    for tokens in tokenized_texts:\n",
    "        vectors = [model.wv[word] for word in tokens if word in model.wv]\n",
    "        if len(vectors) > 0:\n",
    "            doc_vectors.append(np.mean(vectors, axis=0))\n",
    "        else:\n",
    "            doc_vectors.append(np.zeros(vector_size))\n",
    "    \n",
    "    return np.array(doc_vectors), model"
   ]
  },
  {
   "cell_type": "code",
   "execution_count": 17,
   "metadata": {},
   "outputs": [],
   "source": [
    "def load_df_from_json(json_file_path):\n",
    "    try:\n",
    "        df = pd.read_json(json_file_path)\n",
    "        return df\n",
    "    except Exception as e:\n",
    "        print(e)\n",
    "        return []\n"
   ]
  },
  {
   "cell_type": "code",
   "execution_count": 22,
   "metadata": {},
   "outputs": [
    {
     "name": "stdout",
     "output_type": "stream",
     "text": [
      "Index(['Article Title', 'Abstract', 'Label'], dtype='object')\n",
      "0    gene expression analysis\n",
      "Name: Label, dtype: object\n"
     ]
    }
   ],
   "source": [
    "d1 = load_df_from_json('./Cleaned_data/cleaned-dataset1.json')\n",
    "print(d1.columns)"
   ]
  },
  {
   "cell_type": "code",
   "execution_count": 53,
   "metadata": {},
   "outputs": [],
   "source": [
    "\n",
    "def apply_bow(df, text_column):\n",
    "    texts = df[text_column].tolist()\n",
    "    bow_matrix = bag_of_words(texts)\n",
    "    bow_df = pd.DataFrame(bow_matrix, columns=[f'bow_{i}' for i in range(bow_matrix.shape[1])])\n",
    "    return pd.concat([df, bow_df], axis=1)\n",
    "\n",
    "\n",
    "def apply_ngrams(df, text_column, n=2):\n",
    "    texts = df[text_column].tolist()\n",
    "    ngrams_matrix = n_grams(texts, n)\n",
    "    ngrams_df = pd.DataFrame(ngrams_matrix, columns=[f'ngram_{i}' for i in range(ngrams_matrix.shape[1])])\n",
    "    return pd.concat([df, ngrams_df], axis=1)\n",
    "\n",
    "\n",
    "def apply_tfidf(df, text_column):\n",
    "    texts = df[text_column].tolist()\n",
    "    tfidf_matrix = tfidf(texts)\n",
    "    tfidf_df = pd.DataFrame(tfidf_matrix, columns=[f'tfidf_{i}' for i in range(tfidf_matrix.shape[1])])\n",
    "    return pd.concat([df, tfidf_df], axis=1)\n",
    "\n",
    "\n",
    "def apply_lda(df, text_column, n_topics=5):\n",
    "    texts = df[text_column].tolist()\n",
    "    lda_matrix = lda_encoding(texts, n_topics)\n",
    "    lda_df = pd.DataFrame(lda_matrix, columns=[f'lda_topic_{i}' for i in range(n_topics)])\n",
    "    return pd.concat([df, lda_df], axis=1)\n",
    "\n",
    "\n",
    "def apply_word2vec(df, text_column, vector_size=100, window=5, min_count=1):\n",
    "    texts = df[text_column].tolist()\n",
    "    w2v_matrix = word2vec_encoding(texts, vector_size, window, min_count)\n",
    "    w2v_df = pd.DataFrame(w2v_matrix, columns=[f'w2v_{i}' for i in range(vector_size)])\n",
    "    return pd.concat([df, w2v_df], axis=1)"
   ]
  },
  {
   "cell_type": "code",
   "execution_count": 25,
   "metadata": {},
   "outputs": [],
   "source": [
    "def collate_files(arr_files):\n",
    "    arr_dfs = []\n",
    "    for f in arr_files:\n",
    "        d = load_df_from_json(f)\n",
    "        arr_dfs.append(d)\n",
    "    return pd.concat(arr_dfs, ignore_index=True)"
   ]
  },
  {
   "cell_type": "code",
   "execution_count": 32,
   "metadata": {},
   "outputs": [
    {
     "name": "stdout",
     "output_type": "stream",
     "text": [
      "0                       gene expression analysis\n",
      "200        sequence classification and alignment\n",
      "400    protein structure and function prediction\n",
      "600                    biological image analysis\n",
      "800                   disease outcome prediction\n",
      "Name: Label, dtype: object\n"
     ]
    }
   ],
   "source": [
    "d = collate_files(['./Cleaned_data/cleaned-dataset1.json'\n",
    "               ,'./Cleaned_data/cleaned-dataset2.json'\n",
    "               ,'./Cleaned_data/cleaned-dataset3.json'\n",
    "               ,'./Cleaned_data/cleaned-dataset4.json'\n",
    "               ,'./Cleaned_data/cleaned-dataset5.json'])\n",
    "print(d['Label'].drop_duplicates())\n"
   ]
  },
  {
   "cell_type": "code",
   "execution_count": 42,
   "metadata": {},
   "outputs": [],
   "source": [
    "def drop_originals(df):\n",
    "    df['num_label'] = pd.factorize(df['Label'])[0]\n",
    "    df = df.drop('Label', axis=1)\n",
    "    df = df.drop('Abstract', axis=1)\n",
    "    df = df.drop('Article Title', axis=1)\n",
    "    return df"
   ]
  },
  {
   "cell_type": "code",
   "execution_count": 55,
   "metadata": {},
   "outputs": [],
   "source": [
    "bowd = drop_originals(apply_bow(d, 'Abstract'))\n",
    "bowd.to_pickle('bow.pkl')\n",
    "\n",
    "ngrd = drop_originals(apply_ngrams(d, 'Abstract'))\n",
    "ngrd.to_pickle('ngr.pkl')\n",
    "\n",
    "tfid = drop_originals(apply_tfidf(d, 'Abstract'))\n",
    "tfid.to_pickle('tfi.pkl')\n",
    "\n",
    "ldad = drop_originals(apply_lda(d, 'Abstract'))\n",
    "ldad.to_pickle('lda.pkl')\n",
    "\n"
   ]
  },
  {
   "cell_type": "code",
   "execution_count": null,
   "metadata": {},
   "outputs": [],
   "source": []
  }
 ],
 "metadata": {
  "colab": {
   "provenance": []
  },
  "kernelspec": {
   "display_name": "Python 3 (ipykernel)",
   "language": "python",
   "name": "python3"
  },
  "language_info": {
   "codemirror_mode": {
    "name": "ipython",
    "version": 3
   },
   "file_extension": ".py",
   "mimetype": "text/x-python",
   "name": "python",
   "nbconvert_exporter": "python",
   "pygments_lexer": "ipython3",
   "version": "3.12.3"
  }
 },
 "nbformat": 4,
 "nbformat_minor": 4
}
