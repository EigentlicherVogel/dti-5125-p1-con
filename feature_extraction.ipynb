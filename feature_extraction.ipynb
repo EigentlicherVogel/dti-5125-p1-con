{
 "cells": [
  {
   "cell_type": "code",
   "execution_count": 1,
   "metadata": {
    "id": "lvhT5cZj419c"
   },
   "outputs": [],
   "source": [
    "from sklearn.feature_extraction.text import CountVectorizer, TfidfVectorizer\n",
    "from sklearn.decomposition import LatentDirichletAllocation\n",
    "import numpy as np\n",
    "import pandas as pd"
   ]
  },
  {
   "cell_type": "code",
   "execution_count": 2,
   "metadata": {
    "id": "RI1nJ2eRnya7"
   },
   "outputs": [],
   "source": [
    "def bag_of_words(texts):\n",
    "    vectorizer = CountVectorizer()\n",
    "    X = vectorizer.fit_transform(texts)\n",
    "    return X.toarray()\n",
    "\n"
   ]
  },
  {
   "cell_type": "code",
   "execution_count": 3,
   "metadata": {
    "id": "pU78RIxmnyU3"
   },
   "outputs": [],
   "source": [
    "def n_grams(texts, n=2):\n",
    "    vectorizer = CountVectorizer(ngram_range=(n, n))\n",
    "    X = vectorizer.fit_transform(texts)\n",
    "    return X.toarray()\n",
    "\n"
   ]
  },
  {
   "cell_type": "code",
   "execution_count": 4,
   "metadata": {
    "id": "lzno2FfQnyOg"
   },
   "outputs": [],
   "source": [
    "def tfidf(texts):\n",
    "    vectorizer = TfidfVectorizer()\n",
    "    X = vectorizer.fit_transform(texts)\n",
    "    return X.toarray()\n",
    "\n"
   ]
  },
  {
   "cell_type": "code",
   "execution_count": 5,
   "metadata": {
    "id": "ziLg2yw1nyAa"
   },
   "outputs": [],
   "source": [
    "def lda_encoding(texts, n_topics=5):\n",
    "    vectorizer = CountVectorizer()\n",
    "    X = vectorizer.fit_transform(texts)\n",
    "    lda_model = LatentDirichletAllocation(n_components=n_topics)\n",
    "    lda_features = lda_model.fit_transform(X)\n",
    "    return lda_features"
   ]
  },
  {
   "cell_type": "code",
   "execution_count": 6,
   "metadata": {},
   "outputs": [],
   "source": [
    "from gensim.models import Word2Vec\n",
    "from gensim.utils import simple_preprocess\n",
    "\n",
    "def word2vec_encoding(texts, vector_size=100, window=5, min_count=1):\n",
    "\n",
    "    # Tokenize documents\n",
    "    tokenized_texts = [simple_preprocess(doc) for doc in texts]\n",
    "    \n",
    "    # Train Word2Vec model\n",
    "    model = Word2Vec(\n",
    "        sentences=tokenized_texts,\n",
    "        vector_size=vector_size,\n",
    "        window=window,\n",
    "        min_count=min_count,\n",
    "        workers=4\n",
    "    )\n",
    "    \n",
    "    # Create document vectors by averaging word vectors\n",
    "    doc_vectors = []\n",
    "    for tokens in tokenized_texts:\n",
    "        vectors = [model.wv[word] for word in tokens if word in model.wv]\n",
    "        if len(vectors) > 0:\n",
    "            doc_vectors.append(np.mean(vectors, axis=0))\n",
    "        else:\n",
    "            doc_vectors.append(np.zeros(vector_size))\n",
    "    \n",
    "    return np.array(doc_vectors), model"
   ]
  },
  {
   "cell_type": "code",
   "execution_count": 7,
   "metadata": {},
   "outputs": [],
   "source": [
    "def load_df_from_json(json_file_path):\n",
    "    try:\n",
    "        df = pd.read_json(json_file_path)\n",
    "        return df\n",
    "    except Exception as e:\n",
    "        print(e)\n",
    "        return []\n"
   ]
  },
  {
   "cell_type": "code",
   "execution_count": 8,
   "metadata": {},
   "outputs": [
    {
     "name": "stdout",
     "output_type": "stream",
     "text": [
      "Index(['Article Title', 'Abstract', 'Label'], dtype='object')\n"
     ]
    }
   ],
   "source": [
    "d1 = load_df_from_json('./Cleaned_data/cleaned-dataset1.json')\n",
    "print(d1.columns)"
   ]
  },
  {
   "cell_type": "code",
   "execution_count": 9,
   "metadata": {},
   "outputs": [],
   "source": [
    "\n",
    "def apply_bow(df, text_column):\n",
    "    texts = df[text_column].tolist()\n",
    "    bow_matrix = bag_of_words(texts)\n",
    "    bow_df = pd.DataFrame(bow_matrix, columns=[f'bow_{i}' for i in range(bow_matrix.shape[1])])\n",
    "    return pd.concat([df, bow_df], axis=1)\n",
    "\n",
    "\n",
    "def apply_ngrams(df, text_column, n=2):\n",
    "    texts = df[text_column].tolist()\n",
    "    ngrams_matrix = n_grams(texts, n)\n",
    "    ngrams_df = pd.DataFrame(ngrams_matrix, columns=[f'ngram_{i}' for i in range(ngrams_matrix.shape[1])])\n",
    "    return pd.concat([df, ngrams_df], axis=1)\n",
    "\n",
    "\n",
    "def apply_tfidf(df, text_column):\n",
    "    texts = df[text_column].tolist()\n",
    "    tfidf_matrix = tfidf(texts)\n",
    "    tfidf_df = pd.DataFrame(tfidf_matrix, columns=[f'tfidf_{i}' for i in range(tfidf_matrix.shape[1])])\n",
    "    return pd.concat([df, tfidf_df], axis=1)\n",
    "\n",
    "\n",
    "def apply_lda(df, text_column, n_topics=5):\n",
    "    texts = df[text_column].tolist()\n",
    "    lda_matrix = lda_encoding(texts, n_topics)\n",
    "    lda_df = pd.DataFrame(lda_matrix, columns=[f'lda_topic_{i}' for i in range(n_topics)])\n",
    "    return pd.concat([df, lda_df], axis=1)\n",
    "\n",
    "\n",
    "def apply_word2vec(df, text_column, vector_size=100, window=5, min_count=1):\n",
    "    texts = df[text_column].tolist()\n",
    "    w2v_matrix = word2vec_encoding(texts, vector_size, window, min_count)\n",
    "    w2v_df = pd.DataFrame(w2v_matrix, columns=[f'w2v_{i}' for i in range(vector_size)])\n",
    "    return pd.concat([df, w2v_df], axis=1)"
   ]
  },
  {
   "cell_type": "code",
   "execution_count": 10,
   "metadata": {},
   "outputs": [],
   "source": [
    "def collate_files(arr_files):\n",
    "    arr_dfs = []\n",
    "    for f in arr_files:\n",
    "        d = load_df_from_json(f)\n",
    "        arr_dfs.append(d)\n",
    "    return pd.concat(arr_dfs, ignore_index=True)"
   ]
  },
  {
   "cell_type": "code",
   "execution_count": 11,
   "metadata": {},
   "outputs": [
    {
     "name": "stdout",
     "output_type": "stream",
     "text": [
      "0                       gene expression analysis\n",
      "200        sequence classification and alignment\n",
      "400    protein structure and function prediction\n",
      "600                    biological image analysis\n",
      "800                   disease outcome prediction\n",
      "Name: Label, dtype: object\n"
     ]
    }
   ],
   "source": [
    "d = collate_files(['./Cleaned_data/cleaned-dataset1.json'\n",
    "               ,'./Cleaned_data/cleaned-dataset2.json'\n",
    "               ,'./Cleaned_data/cleaned-dataset3.json'\n",
    "               ,'./Cleaned_data/cleaned-dataset4.json'\n",
    "               ,'./Cleaned_data/cleaned-dataset5.json'])\n",
    "print(d['Label'].drop_duplicates())\n"
   ]
  },
  {
   "cell_type": "code",
   "execution_count": 12,
   "metadata": {},
   "outputs": [],
   "source": [
    "def drop_originals(df):\n",
    "    df['num_label'] = pd.factorize(df['Label'])[0]\n",
    "    df = df.drop('Label', axis=1)\n",
    "    df = df.drop('Abstract', axis=1)\n",
    "    df = df.drop('Article Title', axis=1)\n",
    "    return df"
   ]
  },
  {
   "cell_type": "code",
   "execution_count": 13,
   "metadata": {},
   "outputs": [],
   "source": [
    "bowd = drop_originals(apply_bow(d, 'Abstract'))\n",
    "bowd.to_pickle('bow.pkl')\n",
    "\n",
    "ngrd = drop_originals(apply_ngrams(d, 'Abstract'))\n",
    "ngrd.to_pickle('ngr.pkl')\n",
    "\n",
    "tfid = drop_originals(apply_tfidf(d, 'Abstract'))\n",
    "tfid.to_pickle('tfi.pkl')\n",
    "\n",
    "ldad = drop_originals(apply_lda(d, 'Abstract'))\n",
    "ldad.to_pickle('lda.pkl')\n",
    "\n"
   ]
  },
  {
   "cell_type": "code",
   "execution_count": 14,
   "metadata": {},
   "outputs": [
    {
     "ename": "ValueError",
     "evalue": "setting an array element with a sequence. The requested array has an inhomogeneous shape after 1 dimensions. The detected shape was (2,) + inhomogeneous part.",
     "output_type": "error",
     "traceback": [
      "\u001b[31m---------------------------------------------------------------------------\u001b[39m",
      "\u001b[31mValueError\u001b[39m                                Traceback (most recent call last)",
      "\u001b[36mCell\u001b[39m\u001b[36m \u001b[39m\u001b[32mIn[14]\u001b[39m\u001b[32m, line 1\u001b[39m\n\u001b[32m----> \u001b[39m\u001b[32m1\u001b[39m \u001b[43mapply_word2vec\u001b[49m\u001b[43m(\u001b[49m\u001b[43md\u001b[49m\u001b[43m,\u001b[49m\u001b[43m \u001b[49m\u001b[33;43m'\u001b[39;49m\u001b[33;43mAbstract\u001b[39;49m\u001b[33;43m'\u001b[39;49m\u001b[43m)\u001b[49m\n",
      "\u001b[36mCell\u001b[39m\u001b[36m \u001b[39m\u001b[32mIn[9]\u001b[39m\u001b[32m, line 32\u001b[39m, in \u001b[36mapply_word2vec\u001b[39m\u001b[34m(df, text_column, vector_size, window, min_count)\u001b[39m\n\u001b[32m     30\u001b[39m texts = df[text_column].tolist()\n\u001b[32m     31\u001b[39m w2v_matrix = word2vec_encoding(texts, vector_size, window, min_count)\n\u001b[32m---> \u001b[39m\u001b[32m32\u001b[39m w2v_df = \u001b[43mpd\u001b[49m\u001b[43m.\u001b[49m\u001b[43mDataFrame\u001b[49m\u001b[43m(\u001b[49m\u001b[43mw2v_matrix\u001b[49m\u001b[43m,\u001b[49m\u001b[43m \u001b[49m\u001b[43mcolumns\u001b[49m\u001b[43m=\u001b[49m\u001b[43m[\u001b[49m\u001b[33;43mf\u001b[39;49m\u001b[33;43m'\u001b[39;49m\u001b[33;43mw2v_\u001b[39;49m\u001b[38;5;132;43;01m{\u001b[39;49;00m\u001b[43mi\u001b[49m\u001b[38;5;132;43;01m}\u001b[39;49;00m\u001b[33;43m'\u001b[39;49m\u001b[43m \u001b[49m\u001b[38;5;28;43;01mfor\u001b[39;49;00m\u001b[43m \u001b[49m\u001b[43mi\u001b[49m\u001b[43m \u001b[49m\u001b[38;5;129;43;01min\u001b[39;49;00m\u001b[43m \u001b[49m\u001b[38;5;28;43mrange\u001b[39;49m\u001b[43m(\u001b[49m\u001b[43mvector_size\u001b[49m\u001b[43m)\u001b[49m\u001b[43m]\u001b[49m\u001b[43m)\u001b[49m\n\u001b[32m     33\u001b[39m \u001b[38;5;28;01mreturn\u001b[39;00m pd.concat([df, w2v_df], axis=\u001b[32m1\u001b[39m)\n",
      "\u001b[36mFile \u001b[39m\u001b[32m~/generic-ml/lib/python3.12/site-packages/pandas/core/frame.py:867\u001b[39m, in \u001b[36mDataFrame.__init__\u001b[39m\u001b[34m(self, data, index, columns, dtype, copy)\u001b[39m\n\u001b[32m    859\u001b[39m         mgr = arrays_to_mgr(\n\u001b[32m    860\u001b[39m             arrays,\n\u001b[32m    861\u001b[39m             columns,\n\u001b[32m   (...)\u001b[39m\u001b[32m    864\u001b[39m             typ=manager,\n\u001b[32m    865\u001b[39m         )\n\u001b[32m    866\u001b[39m     \u001b[38;5;28;01melse\u001b[39;00m:\n\u001b[32m--> \u001b[39m\u001b[32m867\u001b[39m         mgr = \u001b[43mndarray_to_mgr\u001b[49m\u001b[43m(\u001b[49m\n\u001b[32m    868\u001b[39m \u001b[43m            \u001b[49m\u001b[43mdata\u001b[49m\u001b[43m,\u001b[49m\n\u001b[32m    869\u001b[39m \u001b[43m            \u001b[49m\u001b[43mindex\u001b[49m\u001b[43m,\u001b[49m\n\u001b[32m    870\u001b[39m \u001b[43m            \u001b[49m\u001b[43mcolumns\u001b[49m\u001b[43m,\u001b[49m\n\u001b[32m    871\u001b[39m \u001b[43m            \u001b[49m\u001b[43mdtype\u001b[49m\u001b[43m=\u001b[49m\u001b[43mdtype\u001b[49m\u001b[43m,\u001b[49m\n\u001b[32m    872\u001b[39m \u001b[43m            \u001b[49m\u001b[43mcopy\u001b[49m\u001b[43m=\u001b[49m\u001b[43mcopy\u001b[49m\u001b[43m,\u001b[49m\n\u001b[32m    873\u001b[39m \u001b[43m            \u001b[49m\u001b[43mtyp\u001b[49m\u001b[43m=\u001b[49m\u001b[43mmanager\u001b[49m\u001b[43m,\u001b[49m\n\u001b[32m    874\u001b[39m \u001b[43m        \u001b[49m\u001b[43m)\u001b[49m\n\u001b[32m    875\u001b[39m \u001b[38;5;28;01melse\u001b[39;00m:\n\u001b[32m    876\u001b[39m     mgr = dict_to_mgr(\n\u001b[32m    877\u001b[39m         {},\n\u001b[32m    878\u001b[39m         index,\n\u001b[32m   (...)\u001b[39m\u001b[32m    881\u001b[39m         typ=manager,\n\u001b[32m    882\u001b[39m     )\n",
      "\u001b[36mFile \u001b[39m\u001b[32m~/generic-ml/lib/python3.12/site-packages/pandas/core/internals/construction.py:319\u001b[39m, in \u001b[36mndarray_to_mgr\u001b[39m\u001b[34m(values, index, columns, dtype, copy, typ)\u001b[39m\n\u001b[32m    314\u001b[39m     values = _ensure_2d(values)\n\u001b[32m    316\u001b[39m \u001b[38;5;28;01melse\u001b[39;00m:\n\u001b[32m    317\u001b[39m     \u001b[38;5;66;03m# by definition an array here\u001b[39;00m\n\u001b[32m    318\u001b[39m     \u001b[38;5;66;03m# the dtypes will be coerced to a single dtype\u001b[39;00m\n\u001b[32m--> \u001b[39m\u001b[32m319\u001b[39m     values = \u001b[43m_prep_ndarraylike\u001b[49m\u001b[43m(\u001b[49m\u001b[43mvalues\u001b[49m\u001b[43m,\u001b[49m\u001b[43m \u001b[49m\u001b[43mcopy\u001b[49m\u001b[43m=\u001b[49m\u001b[43mcopy_on_sanitize\u001b[49m\u001b[43m)\u001b[49m\n\u001b[32m    321\u001b[39m \u001b[38;5;28;01mif\u001b[39;00m dtype \u001b[38;5;129;01mis\u001b[39;00m \u001b[38;5;129;01mnot\u001b[39;00m \u001b[38;5;28;01mNone\u001b[39;00m \u001b[38;5;129;01mand\u001b[39;00m values.dtype != dtype:\n\u001b[32m    322\u001b[39m     \u001b[38;5;66;03m# GH#40110 see similar check inside sanitize_array\u001b[39;00m\n\u001b[32m    323\u001b[39m     values = sanitize_array(\n\u001b[32m    324\u001b[39m         values,\n\u001b[32m    325\u001b[39m         \u001b[38;5;28;01mNone\u001b[39;00m,\n\u001b[32m   (...)\u001b[39m\u001b[32m    328\u001b[39m         allow_2d=\u001b[38;5;28;01mTrue\u001b[39;00m,\n\u001b[32m    329\u001b[39m     )\n",
      "\u001b[36mFile \u001b[39m\u001b[32m~/generic-ml/lib/python3.12/site-packages/pandas/core/internals/construction.py:575\u001b[39m, in \u001b[36m_prep_ndarraylike\u001b[39m\u001b[34m(values, copy)\u001b[39m\n\u001b[32m    569\u001b[39m \u001b[38;5;66;03m# we could have a 1-dim or 2-dim list here\u001b[39;00m\n\u001b[32m    570\u001b[39m \u001b[38;5;66;03m# this is equiv of np.asarray, but does object conversion\u001b[39;00m\n\u001b[32m    571\u001b[39m \u001b[38;5;66;03m# and platform dtype preservation\u001b[39;00m\n\u001b[32m    572\u001b[39m \u001b[38;5;66;03m# does not convert e.g. [1, \"a\", True] to [\"1\", \"a\", \"True\"] like\u001b[39;00m\n\u001b[32m    573\u001b[39m \u001b[38;5;66;03m#  np.asarray would\u001b[39;00m\n\u001b[32m    574\u001b[39m \u001b[38;5;28;01mif\u001b[39;00m is_list_like(values[\u001b[32m0\u001b[39m]):\n\u001b[32m--> \u001b[39m\u001b[32m575\u001b[39m     values = \u001b[43mnp\u001b[49m\u001b[43m.\u001b[49m\u001b[43marray\u001b[49m\u001b[43m(\u001b[49m\u001b[43m[\u001b[49m\u001b[43mconvert\u001b[49m\u001b[43m(\u001b[49m\u001b[43mv\u001b[49m\u001b[43m)\u001b[49m\u001b[43m \u001b[49m\u001b[38;5;28;43;01mfor\u001b[39;49;00m\u001b[43m \u001b[49m\u001b[43mv\u001b[49m\u001b[43m \u001b[49m\u001b[38;5;129;43;01min\u001b[39;49;00m\u001b[43m \u001b[49m\u001b[43mvalues\u001b[49m\u001b[43m]\u001b[49m\u001b[43m)\u001b[49m\n\u001b[32m    576\u001b[39m \u001b[38;5;28;01melif\u001b[39;00m \u001b[38;5;28misinstance\u001b[39m(values[\u001b[32m0\u001b[39m], np.ndarray) \u001b[38;5;129;01mand\u001b[39;00m values[\u001b[32m0\u001b[39m].ndim == \u001b[32m0\u001b[39m:\n\u001b[32m    577\u001b[39m     \u001b[38;5;66;03m# GH#21861 see test_constructor_list_of_lists\u001b[39;00m\n\u001b[32m    578\u001b[39m     values = np.array([convert(v) \u001b[38;5;28;01mfor\u001b[39;00m v \u001b[38;5;129;01min\u001b[39;00m values])\n",
      "\u001b[31mValueError\u001b[39m: setting an array element with a sequence. The requested array has an inhomogeneous shape after 1 dimensions. The detected shape was (2,) + inhomogeneous part."
     ]
    }
   ],
   "source": [
    "apply_word2vec(d, 'Abstract')"
   ]
  },
  {
   "cell_type": "code",
   "execution_count": null,
   "metadata": {},
   "outputs": [],
   "source": []
  }
 ],
 "metadata": {
  "colab": {
   "provenance": []
  },
  "kernelspec": {
   "display_name": "Python 3 (ipykernel)",
   "language": "python",
   "name": "python3"
  },
  "language_info": {
   "codemirror_mode": {
    "name": "ipython",
    "version": 3
   },
   "file_extension": ".py",
   "mimetype": "text/x-python",
   "name": "python",
   "nbconvert_exporter": "python",
   "pygments_lexer": "ipython3",
   "version": "3.12.3"
  }
 },
 "nbformat": 4,
 "nbformat_minor": 4
}
